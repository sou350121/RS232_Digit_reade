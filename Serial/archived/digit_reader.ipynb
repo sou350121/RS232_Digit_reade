{
 "cells": [
  {
   "cell_type": "code",
   "execution_count": 1,
   "id": "40665c09",
   "metadata": {},
   "outputs": [],
   "source": [
    "# -*- coding: utf-8 -*-\n",
    "\n",
    "import serial\n",
    "import time\n",
    "import csv\n",
    "import matplotlib\n",
    "matplotlib.use(\"tkAgg\")\n",
    "import matplotlib.pyplot as plt\n",
    "import numpy as np\n",
    "import base64"
   ]
  },
  {
   "cell_type": "code",
   "execution_count": 2,
   "id": "eadbe1da",
   "metadata": {},
   "outputs": [
    {
     "data": {
      "text/plain": [
       "True"
      ]
     },
     "execution_count": 2,
     "metadata": {},
     "output_type": "execute_result"
    }
   ],
   "source": [
    "# configure the serial connections (the parameters differs \\\n",
    "# on the device you are connecting to)\n",
    "ser = serial.Serial(\n",
    "    port='COM3',    # input your port name as string\n",
    "    baudrate=9600,\n",
    "    timeout=1,\n",
    "    parity=serial.PARITY_NONE,\n",
    "    stopbits=serial.STOPBITS_TWO,\n",
    "    bytesize=serial.SEVENBITS\n",
    ")\n",
    "ser.isOpen()\n",
    "\n",
    "# Reading the data from the serial port. This will be running in an infinite loop.\n",
    "\n",
    "# setup the window for visualization\n",
    "#plot_window = 20\n",
    "#y_var = np.array(np.zeros([plot_window]))\n",
    "#\n",
    "#plt.ion()\n",
    "#fig, ax = plt.subplots()\n",
    "#line, = ax.plot(y_var)\n",
    "#"
   ]
  },
  {
   "cell_type": "code",
   "execution_count": null,
   "id": "26ee9165",
   "metadata": {},
   "outputs": [],
   "source": [
    "while True :\n",
    "    # try:\n",
    "    # get keyboard input\n",
    "    bytesToRead = ser.inWaiting()\n",
    "    data = ser.read(bytesToRead)\n",
    "    # decoded_bytes = data[0:len(data)-2].decode(\"utf-8\")\n",
    "    # decoded_bytes = float(ser_bytes[0:len(ser_bytes)-2].decode(\"utf-8\"))\n",
    "    \n",
    "    time.sleep(1)\n",
    "    # print(data)\n",
    "    # print(decoded_bytes)\n",
    "    print(data.decode(\"UTF8\"))\n",
    "\n",
    "    # data_decoded_list = data.decode(\"UTF-8\").split()\n",
    "    # Z_list = [element.split(',')[0] for element in data_decoded_list]\n",
    "    \n",
    "    \n",
    "    # write the data on .csv\n",
    "    # with open(\"test_data.csv\",\"a\") as f:\n",
    "    #     writer = csv.writer(f,delimiter=\",\")\n",
    "    #     [writer.writerow([time.time(),Z]) for Z in Z_list]\n"
   ]
  },
  {
   "cell_type": "code",
   "execution_count": null,
   "id": "47d0dedb",
   "metadata": {},
   "outputs": [],
   "source": []
  }
 ],
 "metadata": {
  "kernelspec": {
   "display_name": "Python [conda env:serial] *",
   "language": "python",
   "name": "conda-env-serial-py"
  },
  "language_info": {
   "codemirror_mode": {
    "name": "ipython",
    "version": 3
   },
   "file_extension": ".py",
   "mimetype": "text/x-python",
   "name": "python",
   "nbconvert_exporter": "python",
   "pygments_lexer": "ipython3",
   "version": "3.7.10"
  }
 },
 "nbformat": 4,
 "nbformat_minor": 5
}
